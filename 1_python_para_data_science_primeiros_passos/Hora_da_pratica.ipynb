{
 "cells": [
  {
   "cell_type": "markdown",
   "metadata": {
    "id": "_kwAaQ36gLQ1"
   },
   "source": [
    "# Sobre o notebook\n",
    "\n",
    "A \"hora da prática\" é uma atividade do curso de Python para Data Science da Alura que contém diversos desafios envolvendo os aprendizados de cada aula.\n",
    "\n",
    "O notebook \"hora da pratica\" é um notebook construído com espaço para as células dos desafios propostos no curso, com ele você tem espaço para construir e executar suas soluções"
   ]
  },
  {
   "cell_type": "markdown",
   "metadata": {
    "id": "Mc-KN0dA0Z83"
   },
   "source": [
    "## Aula 1 - Introdução ao Python"
   ]
  },
  {
   "cell_type": "markdown",
   "metadata": {
    "id": "l5eLWf0W0ikn"
   },
   "source": [
    "### Questão 1\n",
    "\n",
    "Imprima a frase `Escola de Dados da Alura!`"
   ]
  },
  {
   "cell_type": "code",
   "execution_count": 1,
   "metadata": {
    "id": "5pllxJ0h0-yA"
   },
   "outputs": [
    {
     "name": "stdout",
     "output_type": "stream",
     "text": [
      "Escola de Dados da Alura!\n"
     ]
    }
   ],
   "source": [
    "print(\"Escola de Dados da Alura!\")"
   ]
  },
  {
   "cell_type": "markdown",
   "metadata": {
    "id": "tQdX90Ue03c7"
   },
   "source": [
    "### Questão 2\n",
    "Imprima na tela seu nome e seu sobrenome seguindo a estrutura abaixo:\n",
    "```\n",
    "Nome: [seu nome]\n",
    "Sobrenome: [seu sobrenome]\n",
    "```\n"
   ]
  },
  {
   "cell_type": "code",
   "execution_count": 2,
   "metadata": {
    "id": "RVw5iKn20_Ps"
   },
   "outputs": [
    {
     "name": "stdout",
     "output_type": "stream",
     "text": [
      "Nome: Natasha\n",
      "Sobrenome: Paulon\n"
     ]
    }
   ],
   "source": [
    "print(\"Nome: Natasha\")\n",
    "print(\"Sobrenome: Paulon\")"
   ]
  },
  {
   "cell_type": "markdown",
   "metadata": {
    "id": "gfg-aiip03vC"
   },
   "source": [
    "### Questão 3\n",
    "Imprima o seu primeiro nome letra a letra. Por exemplo, nome é Mirla, então eu obtenho a seguinte saída:\n",
    "```\n",
    "M\n",
    "I\n",
    "R\n",
    "L\n",
    "A\n",
    "```\n"
   ]
  },
  {
   "cell_type": "code",
   "execution_count": 3,
   "metadata": {
    "id": "v5bkrgf60_qx"
   },
   "outputs": [
    {
     "name": "stdout",
     "output_type": "stream",
     "text": [
      "N\n",
      "A\n",
      "T\n",
      "A\n",
      "S\n",
      "H\n",
      "A\n"
     ]
    }
   ],
   "source": [
    "print(\"N\")\n",
    "print(\"A\")\n",
    "print(\"T\")\n",
    "print(\"A\")\n",
    "print(\"S\")\n",
    "print(\"H\")\n",
    "print(\"A\")"
   ]
  },
  {
   "cell_type": "markdown",
   "metadata": {
    "id": "oadrJbl704MM"
   },
   "source": [
    "### Questão 4\n",
    "Imprima o dia do seu nascimento em formato `dia mês ano`. Os valores de dia e ano não podem estar entre aspas. O formato deve estar como no exemplo, supondo uma data de aniversário dia 28 de fevereiro de 2003:\n",
    "```\n",
    "28 fevereiro 2003\n",
    "```"
   ]
  },
  {
   "cell_type": "code",
   "execution_count": 4,
   "metadata": {
    "id": "cx0KSsrq1ALD"
   },
   "outputs": [
    {
     "name": "stdout",
     "output_type": "stream",
     "text": [
      "28 fevereiro 2003\n"
     ]
    }
   ],
   "source": [
    "print(28, \"fevereiro\", 2003)"
   ]
  },
  {
   "cell_type": "markdown",
   "metadata": {
    "id": "3RgyMaan04TD"
   },
   "source": [
    "### Questão 5\n",
    "Imprima em um único print o atual ano que você está fazendo esse curso, o valor do ano deve ser um dado numérico. A saída do print deve ser a seguinte:\n",
    "```\n",
    "Ano atual: [ano]\n",
    "```\n"
   ]
  },
  {
   "cell_type": "code",
   "execution_count": 6,
   "metadata": {
    "id": "UN77EfQ2d36Y"
   },
   "outputs": [
    {
     "name": "stdout",
     "output_type": "stream",
     "text": [
      "Ano atual: 2025\n"
     ]
    }
   ],
   "source": [
    "print(\"Ano atual:\", 2025)"
   ]
  },
  {
   "cell_type": "markdown",
   "metadata": {
    "id": "D9e3FqhO1S3X"
   },
   "source": [
    "## Aula 2 - Manipulando dados no Python"
   ]
  },
  {
   "cell_type": "markdown",
   "metadata": {
    "id": "n6o7C1Ze2cRe"
   },
   "source": [
    "### Coleta e amostragem de dados"
   ]
  },
  {
   "cell_type": "markdown",
   "metadata": {
    "id": "sRneWag9PV5Q"
   },
   "source": [
    "#### Questão 1\n",
    "Crie um programa que solicite à pessoa usuária digitar seu nome, e imprima “Olá, [nome]!”."
   ]
  },
  {
   "cell_type": "code",
   "execution_count": 1,
   "metadata": {
    "id": "dbX1fKqy2HnE"
   },
   "outputs": [
    {
     "name": "stdout",
     "output_type": "stream",
     "text": [
      "Olá, Natasha!\n"
     ]
    }
   ],
   "source": [
    "nome = input(\"Digite o seu nome: \")\n",
    "print(f'Olá, {nome}!')"
   ]
  },
  {
   "cell_type": "markdown",
   "metadata": {
    "id": "BJ1SznEp70d5"
   },
   "source": [
    "#### Questão 2\n",
    "Crie um programa que solicite à pessoa usuária digitar seu nome e idade, e imprima “Olá, [nome], você tem [idade] anos.”."
   ]
  },
  {
   "cell_type": "code",
   "execution_count": 2,
   "metadata": {
    "id": "jKz-0Sq8PFkp"
   },
   "outputs": [
    {
     "name": "stdout",
     "output_type": "stream",
     "text": [
      "Olá, Natasha, você tem 26 anos.\n"
     ]
    }
   ],
   "source": [
    "nome = input(\"Digite o seu nome: \")\n",
    "idade = int(input(\"Digite sua idade: \"))\n",
    "print(f'Olá, {nome}, você tem {idade} anos.')"
   ]
  },
  {
   "cell_type": "markdown",
   "metadata": {
    "id": "2T0jNYZt70aa"
   },
   "source": [
    "#### Questão 3\n",
    "Crie um programa que solicite à pessoa usuária digitar seu nome, idade e altura em metros, e imprima “Olá, [nome], você tem [idade] anos e mede [altura] metros!”."
   ]
  },
  {
   "cell_type": "code",
   "execution_count": 3,
   "metadata": {
    "id": "pI4kHNzTPIXh"
   },
   "outputs": [
    {
     "name": "stdout",
     "output_type": "stream",
     "text": [
      "Olá, Natasha, você tem 26 anos e mede 1.55 metros!\n"
     ]
    }
   ],
   "source": [
    "nome = input(\"Digite o seu nome: \")\n",
    "idade = int(input(\"Digite sua idade: \"))\n",
    "altura = float(input(\"Digite sua altura em metros: \"))\n",
    "print(f'Olá, {nome}, você tem {idade} anos e mede {altura} metros!')"
   ]
  },
  {
   "cell_type": "markdown",
   "metadata": {
    "id": "mEBFwKkC70KP"
   },
   "source": [
    "### Calculadora com operadores"
   ]
  },
  {
   "cell_type": "markdown",
   "metadata": {
    "id": "H-IV1oAPPSqK"
   },
   "source": [
    "#### Questão 1\n",
    "\n",
    "Crie um programa que solicite dois valores numéricos à pessoa usuária e imprima a soma dos dois valores."
   ]
  },
  {
   "cell_type": "code",
   "execution_count": 4,
   "metadata": {
    "id": "Zb0W84sy8rnp"
   },
   "outputs": [
    {
     "name": "stdout",
     "output_type": "stream",
     "text": [
      "A soma dos valores 15.0 e 10.0 é 25.0\n"
     ]
    }
   ],
   "source": [
    "num1 = float(input(\"Digite um valor: \"))\n",
    "num2 = float(input(\"Digite outro valor: \"))\n",
    "print(f'A soma dos valores {num1} e {num2} é {num1 + num2}')"
   ]
  },
  {
   "cell_type": "markdown",
   "metadata": {
    "id": "LUoi2MOu70Em"
   },
   "source": [
    "#### Questão 2\n",
    "Crie um programa que solicite três valores numéricos à pessoa usuária e imprima a soma dos três valores."
   ]
  },
  {
   "cell_type": "code",
   "execution_count": 5,
   "metadata": {
    "id": "4FYjWyBS8rDm"
   },
   "outputs": [
    {
     "name": "stdout",
     "output_type": "stream",
     "text": [
      "A soma dos valores 15.0, 10.0 e 5.0 é 30.0\n"
     ]
    }
   ],
   "source": [
    "num1 = float(input(\"Digite um valor: \"))\n",
    "num2 = float(input(\"Digite outro valor: \"))\n",
    "num3 = float(input(\"Digite mais um valor: \"))\n",
    "print(f'A soma dos valores {num1}, {num2} e {num3} é {num1 + num2 + num3}')"
   ]
  },
  {
   "cell_type": "markdown",
   "metadata": {
    "id": "lezGctF07z8i"
   },
   "source": [
    "#### Questão 3\n",
    "Crie um programa que solicite dois valores numéricos à pessoa usuária e imprima a subtração do primeiro pelo o segundo valor."
   ]
  },
  {
   "cell_type": "code",
   "execution_count": 8,
   "metadata": {
    "id": "k0GE1z4w8p3J"
   },
   "outputs": [
    {
     "name": "stdout",
     "output_type": "stream",
     "text": [
      "A subtração dos valor 15.0 por 10.0 é 5.0\n"
     ]
    }
   ],
   "source": [
    "num1 = float(input(\"Digite um valor: \"))\n",
    "num2 = float(input(\"Digite outro valor: \"))\n",
    "print(f'A subtração dos valor {num1} por {num2} é {num1 - num2}')"
   ]
  },
  {
   "cell_type": "markdown",
   "metadata": {
    "id": "wwMP-dPU7zxW"
   },
   "source": [
    "#### Questão 4\n",
    "\n",
    "Crie um programa que solicite dois valores numéricos à pessoa usuária e imprima a multiplicação dos dois valores.\n"
   ]
  },
  {
   "cell_type": "code",
   "execution_count": 9,
   "metadata": {
    "id": "GzFCVHfp8peZ"
   },
   "outputs": [
    {
     "name": "stdout",
     "output_type": "stream",
     "text": [
      "A multiplicação dos valores 10.0 e 5.0 é 50.0\n"
     ]
    }
   ],
   "source": [
    "num1 = float(input(\"Digite um valor: \"))\n",
    "num2 = float(input(\"Digite outro valor: \"))\n",
    "print(f'A multiplicação dos valores {num1} e {num2} é {num1 * num2}')"
   ]
  },
  {
   "cell_type": "markdown",
   "metadata": {
    "id": "9kxyHxUo7zRD"
   },
   "source": [
    "#### Questão 5\n",
    "\n",
    "Crie um programa que solicite dois valores numéricos, um numerador e um denominador, e realize a divisão entre os dois valores. Deixe claro que o valor do denominador não pode ser `0`.\n"
   ]
  },
  {
   "cell_type": "code",
   "execution_count": 11,
   "metadata": {
    "id": "ytJ8l5KH8ozc"
   },
   "outputs": [
    {
     "name": "stdout",
     "output_type": "stream",
     "text": [
      "A divisão dos valor 10.0 por 5.0 é 2.0\n"
     ]
    }
   ],
   "source": [
    "num1 = float(input(\"Digite um valor: \"))\n",
    "num2 = float(input(\"Digite outro valor, que não pode ser zero: \"))\n",
    "print(f'A divisão dos valor {num1} por {num2} é {num1 / num2}')"
   ]
  },
  {
   "cell_type": "markdown",
   "metadata": {
    "id": "zkUSBTQq8Hxt"
   },
   "source": [
    "#### Questão 6\n",
    "\n",
    "Crie um programa que solicite dois valores numéricos, um operador e uma potência, e realize a exponenciação entre esses dois valores.\n"
   ]
  },
  {
   "cell_type": "code",
   "execution_count": 12,
   "metadata": {
    "id": "RPj36jq08oZp"
   },
   "outputs": [
    {
     "name": "stdout",
     "output_type": "stream",
     "text": [
      "A exponenciação do valor 5.0 por 3.0 é 125.0\n"
     ]
    }
   ],
   "source": [
    "num1 = float(input(\"Digite um valor: \"))\n",
    "num2 = float(input(\"Digite outro valor: \"))\n",
    "print(f'A exponenciação do valor {num1} por {num2} é {num1 ** num2}')"
   ]
  },
  {
   "cell_type": "markdown",
   "metadata": {
    "id": "yiunIusZ8Huj"
   },
   "source": [
    "#### Questão 7\n",
    "Crie um programa que solicite dois valores numéricos, um numerador e um denominador e realize a divisão inteira entre os dois valores. Deixe claro que o valor do denominador não pode ser `0`."
   ]
  },
  {
   "cell_type": "code",
   "execution_count": 13,
   "metadata": {
    "id": "UHK8xITf8oCg"
   },
   "outputs": [
    {
     "name": "stdout",
     "output_type": "stream",
     "text": [
      "A divisão inteira do valor 15.0 por 5.0 é 3.0\n"
     ]
    }
   ],
   "source": [
    "num1 = float(input(\"Digite um valor: \"))\n",
    "num2 = float(input(\"Digite outro valor, que não pode ser zero: \"))\n",
    "print(f'A divisão inteira do valor {num1} por {num2} é {num1 // num2}')"
   ]
  },
  {
   "cell_type": "markdown",
   "metadata": {
    "id": "z_D_JiLX8Hra"
   },
   "source": [
    "#### Questão 8\n",
    "\n",
    "Crie um programa que solicite dois valores numéricos, um numerador e um denominador, e retorne o resto da divisão entre os dois valores. Deixe claro que o valor do denominador não pode ser `0`."
   ]
  },
  {
   "cell_type": "code",
   "execution_count": 14,
   "metadata": {
    "id": "EWGJeukO8nqx"
   },
   "outputs": [
    {
     "name": "stdout",
     "output_type": "stream",
     "text": [
      "O resto da divisão, ou seja, o módulo, dos valores 15.0 por 4.0 é 3.0\n"
     ]
    }
   ],
   "source": [
    "num1 = float(input(\"Digite um valor: \"))\n",
    "num2 = float(input(\"Digite outro valor, que não pode ser zero: \"))\n",
    "print(f'O resto da divisão, ou seja, o módulo, dos valores {num1} por {num2} é {num1 % num2}')"
   ]
  },
  {
   "cell_type": "markdown",
   "metadata": {
    "id": "RDRajNkU8N8N"
   },
   "source": [
    "#### Questão 9\n",
    "\n",
    "Crie um código que solicita 3 notas de um estudante e imprima a média das notas."
   ]
  },
  {
   "cell_type": "code",
   "execution_count": 15,
   "metadata": {
    "id": "H6F4Ojzt8nSR"
   },
   "outputs": [
    {
     "name": "stdout",
     "output_type": "stream",
     "text": [
      "A média das notas 9.5, 8.0 e 5.5 é 7.666666666666667.\n"
     ]
    }
   ],
   "source": [
    "nota1 = float(input(\"Digite a nota 1: \"))\n",
    "nota2 = float(input(\"Digite a nota 2: \"))\n",
    "nota3 = float(input(\"Digite a nota 3: \"))\n",
    "media = (nota1 + nota2 + nota3) / 3\n",
    "print(f'A média das notas {nota1}, {nota2} e {nota3} é {media}.')"
   ]
  },
  {
   "cell_type": "markdown",
   "metadata": {
    "id": "d7fjkne58N21"
   },
   "source": [
    "#### Questão 10\n",
    "\n",
    "Crie um código que calcule e imprima a média ponderada dos números 5, 12, 20 e 15 com pesos respectivamente iguais a 1, 2, 3 e 4."
   ]
  },
  {
   "cell_type": "code",
   "execution_count": 17,
   "metadata": {
    "id": "fwjoHlV48mkv"
   },
   "outputs": [
    {
     "name": "stdout",
     "output_type": "stream",
     "text": [
      "A média ponderada é 14.9\n"
     ]
    }
   ],
   "source": [
    "num1 = 5\n",
    "num2 = 12\n",
    "num3 = 20\n",
    "num4 = 15\n",
    "\n",
    "peso_num1 = 1\n",
    "peso_num2 = 2\n",
    "peso_num3 = 3\n",
    "peso_num4 = 4\n",
    "\n",
    "total_notas = peso_num1 + peso_num2 + peso_num3 + peso_num4\n",
    "media_ponderada = (num1 * peso_num1 + num2 * peso_num2 + num3 * peso_num3 + num4 * peso_num4) / total_notas\n",
    "print(f'A média ponderada é {media_ponderada}')"
   ]
  },
  {
   "cell_type": "markdown",
   "metadata": {
    "id": "GNmbX1OU8N0V"
   },
   "source": [
    "### Editando textos"
   ]
  },
  {
   "cell_type": "markdown",
   "metadata": {
    "id": "6wZ85mCsRCV0"
   },
   "source": [
    "#### Questão 1\n",
    "\n",
    "Crie uma variável chamada “`frase`” e atribua a ela uma string de sua escolha. Em seguida, imprima a frase na tela."
   ]
  },
  {
   "cell_type": "code",
   "execution_count": 18,
   "metadata": {
    "id": "eRqr_gh-8mFy"
   },
   "outputs": [
    {
     "name": "stdout",
     "output_type": "stream",
     "text": [
      "Olá\n"
     ]
    }
   ],
   "source": [
    "frase = \"Olá\"\n",
    "print(frase)"
   ]
  },
  {
   "cell_type": "markdown",
   "metadata": {
    "id": "Aac17z-18Nwv"
   },
   "source": [
    "#### Questão 2\n",
    "Crie um código que solicite uma frase e depois imprima a frase na tela."
   ]
  },
  {
   "cell_type": "code",
   "execution_count": 19,
   "metadata": {
    "id": "8zfE2hh98lb0"
   },
   "outputs": [
    {
     "name": "stdout",
     "output_type": "stream",
     "text": [
      "Ola mundo\n"
     ]
    }
   ],
   "source": [
    "frase = input(\"Digite uma frase: \")\n",
    "print(frase)"
   ]
  },
  {
   "cell_type": "markdown",
   "metadata": {
    "id": "DXVzqpN58Ntr"
   },
   "source": [
    "#### Questão 3\n",
    "\n",
    "Crie um código que solicite uma frase à pessoa usuária e imprima a mesma frase digitada mas com todas as letras maiúsculas."
   ]
  },
  {
   "cell_type": "code",
   "execution_count": 20,
   "metadata": {
    "id": "d0VzoYP68k-I"
   },
   "outputs": [
    {
     "name": "stdout",
     "output_type": "stream",
     "text": [
      "OLA MUNDO\n"
     ]
    }
   ],
   "source": [
    "frase = input(\"Digite uma frase: \")\n",
    "print(frase.upper())"
   ]
  },
  {
   "cell_type": "markdown",
   "metadata": {
    "id": "I12VeNPK8Nqb"
   },
   "source": [
    "#### Questão 4\n",
    "\n",
    "Crie um código que solicite uma frase à pessoa usuária e imprima a mesma frase digitada mas com todas as letras minúsculas."
   ]
  },
  {
   "cell_type": "code",
   "execution_count": 21,
   "metadata": {
    "id": "KD8rNy2K8kox"
   },
   "outputs": [
    {
     "name": "stdout",
     "output_type": "stream",
     "text": [
      "ola mundo\n"
     ]
    }
   ],
   "source": [
    "frase = input(\"Digite uma frase: \")\n",
    "print(frase.lower())"
   ]
  },
  {
   "cell_type": "markdown",
   "metadata": {
    "id": "cRqngSE48Nog"
   },
   "source": [
    "#### Questão 5\n",
    "\n",
    "Crie uma variável chamada “`frase`” e atribua a ela uma string de sua escolha. Em seguida, imprima a frase sem espaços em branco no início e no fim."
   ]
  },
  {
   "cell_type": "code",
   "execution_count": 22,
   "metadata": {
    "id": "aSCpdF-o8kBs"
   },
   "outputs": [
    {
     "name": "stdout",
     "output_type": "stream",
     "text": [
      "ola tudo bem\n"
     ]
    }
   ],
   "source": [
    "frase = \" ola tudo bem     \"\n",
    "print(frase.strip())"
   ]
  },
  {
   "cell_type": "markdown",
   "metadata": {
    "id": "murIazpQ8Nkv"
   },
   "source": [
    "#### Questão 6\n",
    "\n",
    "Crie um código que solicite uma frase à pessoa usuária e imprima a mesma frase sem espaços em branco no início e no fim."
   ]
  },
  {
   "cell_type": "code",
   "execution_count": 23,
   "metadata": {
    "id": "tHunjwuG8jNq"
   },
   "outputs": [
    {
     "name": "stdout",
     "output_type": "stream",
     "text": [
      "ola tudo bem com voce\n"
     ]
    }
   ],
   "source": [
    "frase = input(\"Digite uma frase: \")\n",
    "print(frase.strip())"
   ]
  },
  {
   "cell_type": "markdown",
   "metadata": {
    "id": "eRxc2OeX8Nh2"
   },
   "source": [
    "#### Questão 7\n",
    "\n",
    "\n",
    "Crie um código que solicite uma frase à pessoa usuária e imprima a mesma frase sem espaços em branco no início e no fim e em letras minúsculas."
   ]
  },
  {
   "cell_type": "code",
   "execution_count": 24,
   "metadata": {
    "id": "DYm0_UwS8ih6"
   },
   "outputs": [
    {
     "name": "stdout",
     "output_type": "stream",
     "text": [
      "ola tudo bem\n"
     ]
    }
   ],
   "source": [
    "frase = input(\"Digite uma frase: \")\n",
    "print(frase.strip())"
   ]
  },
  {
   "cell_type": "markdown",
   "metadata": {
    "id": "UKATLavs8NfI"
   },
   "source": [
    "#### Questão 8\n",
    "\n",
    "Crie um código que solicite uma frase à pessoa usuária e imprima a mesma frase com todas as vogais “`e`” trocadas pela letra “`f`”."
   ]
  },
  {
   "cell_type": "code",
   "execution_count": 25,
   "metadata": {
    "id": "k64C5G5S8iLO"
   },
   "outputs": [
    {
     "name": "stdout",
     "output_type": "stream",
     "text": [
      "hfllo how arf you\n"
     ]
    }
   ],
   "source": [
    "frase = input(\"Digite uma frase: \")\n",
    "print(frase.replace('e', 'f'))"
   ]
  },
  {
   "cell_type": "markdown",
   "metadata": {
    "id": "n_1SPchw8NdG"
   },
   "source": [
    "#### Questão 9\n",
    "\n",
    "\n",
    "Crie um código que solicite uma frase à pessoa usuária e imprima a mesma frase com todas as vogais “`a`” trocadas pela caractere  “`@`”."
   ]
  },
  {
   "cell_type": "code",
   "execution_count": 26,
   "metadata": {
    "id": "msaDNm_p8h0D"
   },
   "outputs": [
    {
     "name": "stdout",
     "output_type": "stream",
     "text": [
      "ol@ m@ri@ \n"
     ]
    }
   ],
   "source": [
    "frase = input(\"Digite uma frase: \")\n",
    "print(frase.replace('a', chr(64)))"
   ]
  },
  {
   "cell_type": "markdown",
   "metadata": {
    "id": "H3sTTjqI8Naa"
   },
   "source": [
    "#### Questão 10\n",
    "\n",
    "\n",
    "Crie um código que solicite uma frase à pessoa usuária e imprima a mesma frase com todas as consoantes “`s`” trocadas pelo caractere  “`$`”."
   ]
  },
  {
   "cell_type": "code",
   "execution_count": 28,
   "metadata": {
    "id": "RPBIsWT68e-1"
   },
   "outputs": [
    {
     "name": "stdout",
     "output_type": "stream",
     "text": [
      "$ubindo\n"
     ]
    }
   ],
   "source": [
    "frase = input(\"Digite uma frase: \")\n",
    "print(frase.replace('s', chr(36)))"
   ]
  },
  {
   "cell_type": "markdown",
   "metadata": {
    "id": "XGePe4GD2I59"
   },
   "source": [
    "## Aula 3 - Estruturas condicionais"
   ]
  },
  {
   "cell_type": "markdown",
   "metadata": {
    "id": "Pr9HTW0UHCdD"
   },
   "source": [
    "### Aquecendo na programação"
   ]
  },
  {
   "cell_type": "markdown",
   "metadata": {
    "id": "xBZHqhVg80Fy"
   },
   "source": [
    "#### Questão 1\n",
    "Escreva um programa que peça à pessoa usuária para fornecer dois números e exibir o número maior."
   ]
  },
  {
   "cell_type": "code",
   "execution_count": 2,
   "metadata": {
    "id": "GJlGnzjc-xyF"
   },
   "outputs": [
    {
     "name": "stdout",
     "output_type": "stream",
     "text": [
      "8.0\n"
     ]
    }
   ],
   "source": [
    "numero_1 = float(input(\"Digite um número: \"))\n",
    "numero_2 = float(input(\"Digite outro número: \"))\n",
    "\n",
    "if numero_1 > numero_2:\n",
    "    print(numero_1)\n",
    "elif numero_2 > numero_1:\n",
    "    print(numero_2)\n",
    "else:\n",
    "    print(\"os dois números são iguais\")"
   ]
  },
  {
   "cell_type": "markdown",
   "metadata": {
    "id": "H4sgN7dyHNJF"
   },
   "source": [
    "#### Questão 2\n",
    "Escreva um programa que solicite o percentual de crescimento de produção de uma empresa e informe se houve um crescimento (porcentagem positiva) ou decrescimento (porcentagem negativa)."
   ]
  },
  {
   "cell_type": "code",
   "execution_count": 3,
   "metadata": {
    "id": "-2_Ry5XJ-yZW"
   },
   "outputs": [
    {
     "name": "stdout",
     "output_type": "stream",
     "text": [
      "Houve crescimento de 10.0%\n"
     ]
    }
   ],
   "source": [
    "percentual_producao = float(input(\"Informe o percentual de produção: \"))\n",
    "\n",
    "if percentual_producao > 0:\n",
    "    print(f\"Houve crescimento de {percentual_producao}%\")\n",
    "elif percentual_producao < 0:\n",
    "    print(f\"Houve decrescimento de {percentual_producao}%\")\n",
    "else:\n",
    "    print(\"Não houve crescimento ou decrescimento\")"
   ]
  },
  {
   "cell_type": "markdown",
   "metadata": {
    "id": "a_mzNOBDHNny"
   },
   "source": [
    "#### Questão 3\n",
    "Escreva um programa que determine se uma letra fornecida pela pessoa usuária é uma vogal ou consoante."
   ]
  },
  {
   "cell_type": "code",
   "execution_count": 7,
   "metadata": {
    "id": "NbgndVyg-zFJ"
   },
   "outputs": [
    {
     "name": "stdout",
     "output_type": "stream",
     "text": [
      "A letra a é uma vogal\n"
     ]
    }
   ],
   "source": [
    "letra = input(\"Digite uma letra: \")\n",
    "\n",
    "vogais = \"a, e, i, o, u\"\n",
    "consoantes = \"b, c, d, f, g, h, j, k, l, m, n, p, q, r, s, t, v, w, x, y, z\"\n",
    "\n",
    "if letra in vogais:\n",
    "    print(f\"A letra {letra} é uma vogal\")\n",
    "elif letra in consoantes:\n",
    "    print(f\"A letra {letra} é uma consoante\")\n",
    "else:\n",
    "    print(\"Erro, não é uma letra válida\")"
   ]
  },
  {
   "cell_type": "markdown",
   "metadata": {
    "id": "mofMRjSZHP99"
   },
   "source": [
    "#### Questão 4\n",
    "Escreva um programa que leia valores médios de preços de um modelo de carro por 3 anos consecutivos e exiba o valor mais alto e mais baixo entre esses três anos."
   ]
  },
  {
   "cell_type": "code",
   "execution_count": 8,
   "metadata": {
    "id": "TX--d3k9-02c"
   },
   "outputs": [
    {
     "name": "stdout",
     "output_type": "stream",
     "text": [
      "O preço mais alto foi de R$5000.0.\n",
      "O preço mais baixo foi de R$3500.0.\n"
     ]
    }
   ],
   "source": [
    "preco_ano1 = float(input(\"Informe o preço médio do carro no primeiro ano: \"))\n",
    "preco_ano2 = float(input(\"Informe o preço médio do carro no segundo ano: \"))\n",
    "preco_ano3 = float(input(\"Informe o preço médio do carro no terceiro ano: \"))\n",
    "\n",
    "maior = preco_ano1\n",
    "if preco_ano2 > maior:\n",
    "    maior = preco_ano2\n",
    "if preco_ano3 > maior:\n",
    "    maior = preco_ano3\n",
    "\n",
    "menor = preco_ano1\n",
    "if preco_ano2 < menor:\n",
    "    menor = preco_ano2\n",
    "if preco_ano3 < menor:\n",
    "    menor = preco_ano3\n",
    "\n",
    "print(f\"O preço mais alto foi de R${maior}.\")\n",
    "print(f\"O preço mais baixo foi de R${menor}.\")"
   ]
  },
  {
   "cell_type": "markdown",
   "metadata": {
    "id": "jY5tIwd-HQzc"
   },
   "source": [
    "#### Questão 5\n",
    "Escreva um programa que pergunte sobre o preço de três produtos e indique qual é o produto mais barato para comprar."
   ]
  },
  {
   "cell_type": "code",
   "execution_count": 9,
   "metadata": {
    "id": "sYqNh9df-0gk"
   },
   "outputs": [
    {
     "name": "stdout",
     "output_type": "stream",
     "text": [
      "O terceiro produto é mais barato.\n"
     ]
    }
   ],
   "source": [
    "p1 = float(input(\"Informe o preço do produto 1: \"))\n",
    "p2 = float(input(\"Informe o preço do produto 2: \"))\n",
    "p3 = float(input(\"Informe o preço do produto 3: \"))\n",
    "\n",
    "if p1 < p2 and p1 < p3:\n",
    "    print('O primeiro produto é mais barato.')\n",
    "elif p2 < p1 and p2 < p3:\n",
    "    print('O segundo produto é mais barato.')\n",
    "elif p3 < p1 and p3 < p2:\n",
    "    print('O terceiro produto é mais barato.')\n",
    "elif p1 == p2 == p3:\n",
    "    print('Os produtos possuem o mesmo preço.')\n",
    "else:\n",
    "    if p1 == p2:\n",
    "        print(\"O primeiro e o segundo produtos são os mais baratos.\")\n",
    "    elif p2 == p3:\n",
    "        print(\"O segundo e o terceiro produtos são os mais baratos.\")\n",
    "    elif p1 == p3:\n",
    "        print(\"O primeiro e o terceiro produtos são os mais baratos.\")"
   ]
  },
  {
   "cell_type": "markdown",
   "metadata": {
    "id": "1r6aVxtTHR4E"
   },
   "source": [
    "#### Questão 6\n",
    "Escreva um programa que leia três números e os exiba em ordem decrescente."
   ]
  },
  {
   "cell_type": "code",
   "execution_count": 10,
   "metadata": {
    "id": "ydOCYUMO-0Hk"
   },
   "outputs": [
    {
     "name": "stdout",
     "output_type": "stream",
     "text": [
      "63.0\n",
      "10.0\n",
      "5.0\n"
     ]
    }
   ],
   "source": [
    "n1 = float(input(\"Digite um número: \"))\n",
    "n2 = float(input(\"Digite outro número: \"))\n",
    "n3 = float(input(\"Digite mais um número: \"))\n",
    "\n",
    "if n1 > n2 and n1 > n3:\n",
    "    print(n1)\n",
    "    if n2 >= n3:\n",
    "        print(n2)\n",
    "        print(n3)\n",
    "    else:\n",
    "        print(n3)\n",
    "        print(n2)\n",
    "elif n2 > n1 and n2 > n3:\n",
    "    print(n2)\n",
    "    if n1 >= n3:\n",
    "        print(n1)\n",
    "        print(n3)\n",
    "    else:\n",
    "        print(n3)\n",
    "        print(n1)\n",
    "else:\n",
    "    print(n3)\n",
    "    if n1 >= n2:\n",
    "        print(n1)\n",
    "        print(n2)\n",
    "    else:\n",
    "        print(n2)\n",
    "        print(n1)"
   ]
  },
  {
   "cell_type": "markdown",
   "metadata": {
    "id": "inW3F-hAHS_X"
   },
   "source": [
    "#### Questão 7\n",
    "Escreva um programa que pergunte em qual turno a pessoa usuária estuda (\"manhã\", \"tarde\" ou \"noite\") e exiba a mensagem \"Bom Dia!\", \"Boa Tarde!\", \"Boa Noite!\", ou \"Valor Inválido!\", conforme o caso."
   ]
  },
  {
   "cell_type": "code",
   "execution_count": 15,
   "metadata": {
    "id": "-_q-Pcr_-zth"
   },
   "outputs": [
    {
     "name": "stdout",
     "output_type": "stream",
     "text": [
      "Boa Tarde!\n"
     ]
    }
   ],
   "source": [
    "turno = input(\"Digite em qual turno você estuda (manhã, tarde ou noite): \")\n",
    "\n",
    "if turno == \"manhã\":\n",
    "    print(\"Bom Dia!\")\n",
    "elif turno == \"tarde\":\n",
    "    print(\"Boa Tarde!\")\n",
    "elif turno == \"noite\":\n",
    "    print(\"Boa Noite!\")\n",
    "else:\n",
    "    print(\"Valor Inválido!\")"
   ]
  },
  {
   "cell_type": "markdown",
   "metadata": {
    "id": "NCCPF3QqHTw-"
   },
   "source": [
    "#### Questão 8\n",
    "Escreva um programa que peça um número inteiro à pessoa usuária e determine se ele é par ou ímpar. Dica: Você pode utilizar o operador módulo `%`."
   ]
  },
  {
   "cell_type": "code",
   "execution_count": 16,
   "metadata": {
    "id": "OmZJt1nQ-3e6"
   },
   "outputs": [
    {
     "name": "stdout",
     "output_type": "stream",
     "text": [
      "O número 10 é par\n"
     ]
    }
   ],
   "source": [
    "numero = int(input(\"Digite um número inteiro: \"))\n",
    "\n",
    "if numero % 2 == 0:\n",
    "    print(f\"O número {numero} é par\")\n",
    "else:\n",
    "    print(f\"O número {numero} é ímpar\")"
   ]
  },
  {
   "cell_type": "markdown",
   "metadata": {
    "id": "h93Ck1tQHUwE"
   },
   "source": [
    "#### Questão 9\n",
    "Escreva um programa que peça um número à pessoa usuária e informe se ele é inteiro ou decimal."
   ]
  },
  {
   "cell_type": "code",
   "execution_count": 18,
   "metadata": {
    "id": "sLMlZcx8-20N"
   },
   "outputs": [
    {
     "name": "stdout",
     "output_type": "stream",
     "text": [
      "O número 4.5 é decimal\n"
     ]
    }
   ],
   "source": [
    "numero = float(input(\"Digite um número: \"))\n",
    "\n",
    "if numero % 1 == 0:\n",
    "    print(f'O número {numero} é inteiro')\n",
    "else:\n",
    "    print(f'O número {numero} é decimal')"
   ]
  },
  {
   "cell_type": "markdown",
   "metadata": {
    "id": "bKdXSK1SH_pF"
   },
   "source": [
    "### Momento dos projetos"
   ]
  },
  {
   "cell_type": "markdown",
   "metadata": {
    "id": "WBlEyyzsHV86"
   },
   "source": [
    "#### Questão 10\n",
    "Um programa deve ser escrito para ler dois números e, em seguida, perguntar à pessoa usuária qual operação ele deseja realizar. O resultado da operação deve incluir informações sobre o número - se é par ou ímpar, positivo ou negativo e inteiro ou decimal."
   ]
  },
  {
   "cell_type": "code",
   "execution_count": 19,
   "metadata": {
    "id": "3jmahZ0f-2gq"
   },
   "outputs": [
    {
     "name": "stdout",
     "output_type": "stream",
     "text": [
      "O resultado é inteiro\n",
      "O resultado é positivo\n",
      "O resultado é ímpar\n"
     ]
    }
   ],
   "source": [
    "n1 = float(input(\"Digite um número: \"))\n",
    "n2 = float(input(\"Digite outro número: \"))\n",
    "operacao = input(\"Informe a operação que deseja realizar (+, -, *, /): \")\n",
    "\n",
    "# Operação\n",
    "if operacao == \"+\":\n",
    "    resultado = n1 + n2\n",
    "elif operacao == \"-\":\n",
    "    resultado = n1 - n2\n",
    "elif operacao == \"*\":\n",
    "    resultado = n1 * n2\n",
    "elif operacao == \"/\":\n",
    "    resultado = n1 / n2\n",
    "else:\n",
    "    print(\"Operação inválida, o resultado da operação será 0\")\n",
    "    resultado = 0\n",
    "\n",
    "# Inteiro ou decimal\n",
    "if resultado % 1 == 0:\n",
    "    print(\"O resultado é inteiro\")\n",
    "else:\n",
    "    print(\"O resultado é decimal\")\n",
    "\n",
    "# Positivo ou negativo\n",
    "if resultado > 0:\n",
    "    print(\"O resultado é positivo\")\n",
    "else:\n",
    "    print(\"O resultado é negativo\")\n",
    "\n",
    "# Par ou ímpar\n",
    "if resultado % 2 == 0:\n",
    "    print(\"O resultado é par\")\n",
    "else:\n",
    "    print(\"O resultado é ímpar\")"
   ]
  },
  {
   "cell_type": "markdown",
   "metadata": {
    "id": "VdnlULxHHW19"
   },
   "source": [
    "#### Questão 11\n",
    "Escreva um programa que peça à pessoa usuária três números que representam os lados de um triângulo. O programa deve informar se os valores podem ser utilizados para formar um triângulo e, caso afirmativo, se ele é equilátero, isósceles ou escaleno. Tenha em mente algumas dicas:\n",
    "- Três lados formam um triângulo quando a soma de quaisquer dois lados for maior que o terceiro;\n",
    "- Triângulo Equilátero: três lados iguais;\n",
    "- Triângulo Isósceles: quaisquer dois lados iguais;\n",
    "- Triângulo Escaleno: três lados diferentes;\n"
   ]
  },
  {
   "cell_type": "code",
   "execution_count": 21,
   "metadata": {
    "id": "0z73sqUO-2Pw"
   },
   "outputs": [
    {
     "name": "stdout",
     "output_type": "stream",
     "text": [
      "Pode formar um triângulo\n",
      "Triângulo Escaleno\n"
     ]
    }
   ],
   "source": [
    "l1 = float(input(\"Digite o primeiro valor do lado do triângulo: \"))\n",
    "l2 = float(input(\"Digite o segundo valor do lado do triângulo: \"))\n",
    "l3 = float(input(\"Digite o terceiro valor do lado do triângulo: \"))\n",
    "\n",
    "# É triângulo?\n",
    "if (l1 + l2 > l3) and (l2 + l3 > l1) and (l1 + l3 > l2):\n",
    "    print(\"Pode formar um triângulo\")\n",
    "\n",
    "    # Tipo triângulo\n",
    "    if (l1 == l2) and (l2 == l3):\n",
    "        print(\"Triângulo Equilátero\")\n",
    "    elif (l1 != l2) and (l2 != l3) and (l1 != l3):\n",
    "        print(\"Triângulo Escaleno\")\n",
    "    else:\n",
    "        print(\"Triângulo Isósceles\")\n",
    "else:\n",
    "    print(\"Não pode formar um triângulo\")\n"
   ]
  },
  {
   "cell_type": "markdown",
   "metadata": {
    "id": "_PpEpOugHXwZ"
   },
   "source": [
    "#### Questão 12\n",
    "Um estabelecimento está vendendo combustíveis com descontos variados. Para o etanol, se a quantidade comprada for até 15 litros, o desconto será de 2% por litro. Caso contrário, será de 4% por litro. Para o diesel, se a quantidade comprada for até 15 litros, o desconto será de 3% por litro. Caso contrário, será de 5% por litro. O preço do litro de diesel é R\\$ 2,00 e o preço do litro de etanol é R\\$ 1,70. Escreva um programa que leia a quantidade de litros vendidos e o tipo de combustível (E para etanol e D para diesel) e calcule o valor a ser pago pelo cliente. Tenha em mente algumas dicas:\n",
    "\n",
    "- O do valor do desconto será a multiplicação entre preço do litro, quantidade de litros e o valor do desconto.\n",
    "- O valor a ser pago por um cliente será o resultado da multiplicação do preço do litro pela quantidade de litros menos o valor de desconto resultante do cálculo.\n"
   ]
  },
  {
   "cell_type": "code",
   "execution_count": 25,
   "metadata": {
    "id": "9izoF-0O-1yD"
   },
   "outputs": [
    {
     "name": "stdout",
     "output_type": "stream",
     "text": [
      "O valor a ser pago pelo cliente por 15.0L de E com um desconto de R$0.51 será R$24.99.\n"
     ]
    }
   ],
   "source": [
    "litros = float(input(\"Informe quantos litros: \"))\n",
    "combustivel = input(\"Informe o tipo de combustível (E para etanol e D para diesel): \").upper()\n",
    "\n",
    "if combustivel == \"E\":    \n",
    "    preco_litro = 1.7\n",
    "\n",
    "    if litros <= 15:\n",
    "        desconto = 0.02\n",
    "    else:\n",
    "        desconto = 0.04\n",
    "elif combustivel == \"D\":\n",
    "    preco_litro = 2\n",
    "\n",
    "    if litros <= 15:\n",
    "        desconto = 0.03\n",
    "    else:\n",
    "        desconto = 0.05\n",
    "else:\n",
    "    print(\"Tipo de combustível inválido.\")\n",
    "    preco_litro = 0\n",
    "    desconto = 0\n",
    "\n",
    "valor_desconto = preco_litro * litros * desconto\n",
    "valor_pago = preco_litro * litros - valor_desconto\n",
    "\n",
    "print(f\"O valor a ser pago pelo cliente por {litros}L de {combustivel} com um desconto de R${valor_desconto} será R${valor_pago}.\")\n"
   ]
  },
  {
   "cell_type": "markdown",
   "metadata": {
    "id": "s_XS_D1WHY2R"
   },
   "source": [
    "#### Questão 13\n",
    "Em uma empresa de venda de imóveis você precisa criar um código que analise os dados de vendas anuais para ajudar a diretoria na tomada de decisão. O código precisa coletar os dados de quantidade de venda durante os anos de 2022 e 2023 e fazer um cálculo de variação percentual. A partir do valor da variação, deve ser enviada às seguintes sugestões:\n",
    "- Para variação acima de 20%: bonificação para o time de vendas.\n",
    "- Para variação entre 2% e 20%: pequena bonificação para time de vendas.\n",
    "- Para variação entre 2% e -10%: planejamento de políticas de incentivo às vendas.\n",
    "- Para bonificações abaixo de -10%: corte de gastos.\n"
   ]
  },
  {
   "cell_type": "code",
   "execution_count": 26,
   "metadata": {
    "id": "avQrYlUg-w8f"
   },
   "outputs": [
    {
     "name": "stdout",
     "output_type": "stream",
     "text": [
      "Bonificação para o time de vendas.\n"
     ]
    }
   ],
   "source": [
    "vendas_2022 = float(input(\"Informe a quantidade de vendas de 2022: \"))\n",
    "vendas_2023 = float(input(\"Informe a quantidade de vendas de 2023: \"))\n",
    "\n",
    "variacao_percentual = 100 * (vendas_2023 - vendas_2022) / (vendas_2022)\n",
    "\n",
    "if variacao_percentual > 20:\n",
    "    print(\"Bonificação para o time de vendas.\")\n",
    "elif 2 <= variacao_percentual <= 20:\n",
    "    print(\"Pequena bonificação para o time de vendas.\")\n",
    "elif -10 <= variacao_percentual < 2:\n",
    "    print(\"Planejamento de políticas de incentivo às vendas.\")\n",
    "else:\n",
    "    print(\"Corte de gastos.\")"
   ]
  },
  {
   "cell_type": "markdown",
   "metadata": {
    "id": "AuaWh4-d2Itt"
   },
   "source": [
    "## Aula 4 - Estruturas de repetição"
   ]
  },
  {
   "cell_type": "markdown",
   "metadata": {
    "id": "6MSqU0sIJRdD"
   },
   "source": [
    "### Aquecendo na programação"
   ]
  },
  {
   "cell_type": "markdown",
   "metadata": {
    "id": "9eGGyCnAJRdQ"
   },
   "source": [
    "#### Questão 1\n",
    "Escreva um programa que peça dois números inteiros e imprima todos os números inteiros entre eles."
   ]
  },
  {
   "cell_type": "code",
   "execution_count": 1,
   "metadata": {
    "id": "ID1oc1hxJRdQ"
   },
   "outputs": [
    {
     "name": "stdout",
     "output_type": "stream",
     "text": [
      "11\n",
      "12\n",
      "13\n",
      "14\n"
     ]
    }
   ],
   "source": [
    "inicio = int(input(\"Digite o primeiro número inteiro: \"))\n",
    "fim = int(input(\"Digite o segundo número inteiro: \"))\n",
    "\n",
    "if inicio < fim:\n",
    "    for num in range(inicio + 1, fim):\n",
    "        print(num)\n",
    "elif inicio > fim:\n",
    "    for num in range(fim + 1, inicio):\n",
    "        print(num)\n",
    "else:\n",
    "    print(\"Os números são iguais.\")"
   ]
  },
  {
   "cell_type": "markdown",
   "metadata": {
    "id": "mGonEHYCJRdR"
   },
   "source": [
    "#### Questão 2\n",
    "Escreva um programa para calcular quantos dias levará para a colônia de uma bactéria A ultrapassar ou igualar a colônia de uma bactéria B, com base nas taxas de crescimento de 3% e 1,5% respectivamente. Considere que a colônia A inicia com 4 elementos e a colônia B com 10 elementos."
   ]
  },
  {
   "cell_type": "code",
   "execution_count": 2,
   "metadata": {
    "id": "wM6FJuoqJRdR"
   },
   "outputs": [
    {
     "name": "stdout",
     "output_type": "stream",
     "text": [
      "Irá levar 63 dias para a colônia A ultrapassar a colônia B.\n"
     ]
    }
   ],
   "source": [
    "colonia_a = 4\n",
    "colonia_b = 10\n",
    "\n",
    "taxa_a = 0.03 # 3%\n",
    "taxa_b = 0.015 # 1.5%\n",
    "\n",
    "dias = 0\n",
    "\n",
    "while colonia_a <= colonia_b:\n",
    "    colonia_a *= 1 + taxa_a\n",
    "    colonia_b *= 1 + taxa_b\n",
    "\n",
    "    dias += 1\n",
    "\n",
    "print(f\"Irá levar {dias} dias para a colônia A ultrapassar a colônia B.\")"
   ]
  },
  {
   "cell_type": "markdown",
   "metadata": {
    "id": "UiOZRlqoJRdR"
   },
   "source": [
    "#### Questão 3\n",
    "Para tratar uma quantidade de 15 dados de avaliações de pessoas usuárias de um serviço da empresa, precisamos verificar se as notas são válidas. Então, escreva um programa que vai receber a nota de 0 a 5 de todos os dados e verificar se é um valor válido. Caso seja inserido uma nota acima de 5 ou abaixo de 0, repita até que a pessoa usuária insira um valor válido."
   ]
  },
  {
   "cell_type": "code",
   "execution_count": 3,
   "metadata": {
    "id": "3TUAhCxcJRdR"
   },
   "outputs": [
    {
     "name": "stdout",
     "output_type": "stream",
     "text": [
      "Verificação feita. Todas as notas são válidas.\n"
     ]
    }
   ],
   "source": [
    "for i in range(15):\n",
    "    nota = float(input(f'Insira a nota da pessoa usuária {i}: '))\n",
    "\n",
    "    while (nota < 0) or (nota > 5):\n",
    "        nota = float(input(f'Nota inválida, insira novamente a nota da pessoa usuária {i}: '))\n",
    "\n",
    "print('Verificação feita. Todas as notas são válidas.')"
   ]
  },
  {
   "cell_type": "markdown",
   "metadata": {
    "id": "ABv3KObGJRdR"
   },
   "source": [
    "#### Questão 4\n",
    "Desenvolva um programa que leia um conjunto indeterminado de temperaturas em Celsius e faça uma análise. Portanto, escreva um programa que leia temperaturas e informe a média delas. A leitura deve ser encerrada ao ser enviado o valor -273°C."
   ]
  },
  {
   "cell_type": "code",
   "execution_count": 4,
   "metadata": {
    "id": "85tBBj5KJRdS"
   },
   "outputs": [
    {
     "name": "stdout",
     "output_type": "stream",
     "text": [
      "A média das temperaturas é: 2.5\n"
     ]
    }
   ],
   "source": [
    "temperatura = float(input(\"Insira a temperatura em Celsius: \"))\n",
    "\n",
    "contadora = 0\n",
    "soma = 0\n",
    "\n",
    "while temperatura != -273:\n",
    "    soma += temperatura\n",
    "    contadora += 1\n",
    "    temperatura = float(input(\"Insira a temperatura em Celsius: \"))\n",
    "\n",
    "media = soma / contadora\n",
    "\n",
    "print(f'A média das temperaturas é: {media}')"
   ]
  },
  {
   "cell_type": "markdown",
   "metadata": {
    "id": "IjkbAfGcJRdS"
   },
   "source": [
    "#### Questão 5\n",
    "Escreva um programa que calcule o fatorial de um número inteiro fornecido pela pessoa usuária. O fatorial de um número inteiro é a multiplicação desse número por todos os seus antecessores até o número 1. Por exemplo, o fatorial de 5 é 5 x 4 x 3 x 2 x 1 = 120."
   ]
  },
  {
   "cell_type": "code",
   "execution_count": 6,
   "metadata": {
    "id": "7RTH8o0HJRdS"
   },
   "outputs": [
    {
     "name": "stdout",
     "output_type": "stream",
     "text": [
      "Fatorial de 5 é 120\n"
     ]
    }
   ],
   "source": [
    "num = int(input(\"Informe um número inteiro: \"))\n",
    "\n",
    "fatorial = 1\n",
    "\n",
    "i = num\n",
    "\n",
    "while i > 0:\n",
    "    fatorial *= i\n",
    "    i -= 1\n",
    "\n",
    "print(f\"Fatorial de {num} é {fatorial}\")"
   ]
  },
  {
   "cell_type": "markdown",
   "metadata": {
    "id": "oGNKuQjsJRdT"
   },
   "source": [
    "### Momento dos projetos"
   ]
  },
  {
   "cell_type": "markdown",
   "metadata": {
    "id": "ODxaTUYmJRdS"
   },
   "source": [
    "#### Questão 6\n",
    "Escreva um programa que gere a tabuada de um número inteiro de 1 a 10, de acordo com a escolha da pessoa usuária. Como exemplo, para o número 2, a tabuada deve ser mostrada no seguinte formato:\n",
    "```\n",
    "Tabuada do 2:\n",
    "2 x 1 = 2\n",
    "2 x 2 = 4\n",
    "[...]\n",
    "2 x 10 = 20\n",
    "```"
   ]
  },
  {
   "cell_type": "code",
   "execution_count": 7,
   "metadata": {
    "id": "lkTlbxPIJRdS"
   },
   "outputs": [
    {
     "name": "stdout",
     "output_type": "stream",
     "text": [
      "Tabuada do 7:\n",
      "7 x 1 = 7\n",
      "7 x 2 = 14\n",
      "7 x 3 = 21\n",
      "7 x 4 = 28\n",
      "7 x 5 = 35\n",
      "7 x 6 = 42\n",
      "7 x 7 = 49\n",
      "7 x 8 = 56\n",
      "7 x 9 = 63\n",
      "7 x 10 = 70\n"
     ]
    }
   ],
   "source": [
    "num = int(input(\"Informe um número inteiro de 1 a 10: \"))\n",
    "\n",
    "print(f'Tabuada do {num}:')\n",
    "\n",
    "for i in range(1, 11):\n",
    "    resultado = num * i\n",
    "    print(f\"{num} x {i} = {resultado}\")"
   ]
  },
  {
   "cell_type": "markdown",
   "metadata": {
    "id": "LeIbnt8VJRdS"
   },
   "source": [
    "#### Questão 7\n",
    "Os números primos possuem várias aplicações dentro da Ciência de Dados, por exemplo, na criptografia e segurança. Um número primo é aquele que é divisível apenas por um e por ele mesmo. Faça um programa que peça um número inteiro e determine se ele é ou não um número primo."
   ]
  },
  {
   "cell_type": "code",
   "execution_count": 9,
   "metadata": {
    "id": "2rcNU7twJRdS"
   },
   "outputs": [
    {
     "name": "stdout",
     "output_type": "stream",
     "text": [
      "O número 11 é primo\n"
     ]
    }
   ],
   "source": [
    "num = int(input(\"Digite o número: \"))\n",
    "\n",
    "e_primo = True\n",
    "\n",
    "if num <= 1:\n",
    "    e_primo = False\n",
    "else:\n",
    "    for i in range(2, num):\n",
    "        if num % i == 0:\n",
    "            e_primo = False\n",
    "            break\n",
    "\n",
    "if e_primo:\n",
    "    print(f\"O número {num} é primo\")\n",
    "else:\n",
    "    print(f\"O número {num} não é primo\")"
   ]
  },
  {
   "cell_type": "markdown",
   "metadata": {
    "id": "QTwb6QaCJRdT"
   },
   "source": [
    "#### Questão 8\n",
    "Vamos entender a distribuição de idades de pensionistas de uma empresa de previdência. Escreva um programa que leia as idades de uma quantidade não informada de clientes e mostre a distribuição em intervalos de [0-25], [26-50], [51-75] e [76-100]. Encerre a entrada de dados com um número negativo."
   ]
  },
  {
   "cell_type": "code",
   "execution_count": 11,
   "metadata": {
    "id": "4IAhaDmYJRdT"
   },
   "outputs": [
    {
     "name": "stdout",
     "output_type": "stream",
     "text": [
      "Distribuição de idades:\n",
      "[0-25]: 2\n",
      "[26-50]: 1\n",
      "[51-75]: 3\n",
      "[76-100]: 3\n"
     ]
    }
   ],
   "source": [
    "idade = int(input(\"Informe a idade (ou um número negativo para encerrar): \"))\n",
    "\n",
    "contador_0_25 = 0\n",
    "contador_26_50 = 0\n",
    "contador_51_75 = 0\n",
    "contador_76_100 = 0\n",
    "\n",
    "while idade >= 0:\n",
    "    if idade >= 0 and idade <= 25:\n",
    "        contador_0_25 += 1\n",
    "    elif idade >= 26 and idade <= 50:\n",
    "        contador_26_50 += 1\n",
    "    elif idade >= 51 and idade <= 75:\n",
    "        contador_51_75 += 1\n",
    "    elif idade >= 76 and idade <= 100:\n",
    "        contador_76_100 += 1\n",
    "\n",
    "    idade = int(input(\"Informe a idade (ou um número negativo para encerrar): \"))\n",
    "\n",
    "print('Distribuição de idades:')\n",
    "print('[0-25]:', contador_0_25)\n",
    "print('[26-50]:', contador_26_50)\n",
    "print('[51-75]:', contador_51_75)\n",
    "print('[76-100]:', contador_76_100)"
   ]
  },
  {
   "cell_type": "markdown",
   "metadata": {
    "id": "soJCQVwRJRdT"
   },
   "source": [
    "#### Questão 9\n",
    "Em uma eleição para gerência em uma empresa com 20 funcionários, existem quatro candidatos. Escreva um programa que calcule o vencedor da eleição. A votação ocorreu da seguinte maneira:\n",
    "- Cada funcionário votou em um dos quatro candidatos (representados pelos números 1, 2, 3 e 4).\n",
    "- Também foram contabilizados os votos nulos (representado pelo número 5) e os votos em branco (representado pelo número 6).\n",
    "\n",
    "Ao final da votação, o programa deve exibir o total de votos para cada candidato, o número de votos nulos e o número de votos em branco. Além disso, deve calcular e exibir a porcentagem de votos nulos em relação ao total de votos e a porcentagem de votos em branco em relação ao total de votos."
   ]
  },
  {
   "cell_type": "code",
   "execution_count": 12,
   "metadata": {
    "id": "041EFrgG-4gR"
   },
   "outputs": [
    {
     "name": "stdout",
     "output_type": "stream",
     "text": [
      "Voto inválido.\n",
      "Votos candidato 1: 5\n",
      "Votos candidato 2: 7\n",
      "Votos candidato 3: 2\n",
      "Votos candidato 4: 1\n",
      "Votos nulos: 3\n",
      "Votos em branco: 1\n",
      "Percentual de votos nulos: 15.0\n",
      "Percentual de votos em branco: 5.0\n"
     ]
    }
   ],
   "source": [
    "votos_candidato1 = 0\n",
    "votos_candidato2 = 0\n",
    "votos_candidato3 = 0\n",
    "votos_candidato4 = 0\n",
    "votos_nulos = 0\n",
    "votos_branco = 0\n",
    "\n",
    "for i in range(0, 20):\n",
    "    voto = int(input(\"Informe seu voto: \"))\n",
    "    if voto == 1:\n",
    "        votos_candidato1 += 1\n",
    "    elif voto == 2:\n",
    "        votos_candidato2 += 1\n",
    "    elif voto == 3:\n",
    "        votos_candidato3 += 1\n",
    "    elif voto == 4:\n",
    "        votos_candidato4 += 1\n",
    "    elif voto == 5:\n",
    "        votos_nulos += 1\n",
    "    elif voto == 6:\n",
    "        votos_branco += 1\n",
    "    else:\n",
    "        print(\"Voto inválido.\")\n",
    "\n",
    "print(f'Votos candidato 1: {votos_candidato1}')\n",
    "print(f'Votos candidato 2: {votos_candidato2}')\n",
    "print(f'Votos candidato 3: {votos_candidato3}')\n",
    "print(f'Votos candidato 4: {votos_candidato4}')\n",
    "print(f'Votos nulos: {votos_nulos}')\n",
    "print(f'Votos em branco: {votos_branco}')\n",
    "print(f'Percentual de votos nulos: {(votos_nulos / 20 * 100)}')\n",
    "print(f'Percentual de votos em branco: {(votos_branco / 20 * 100)}')"
   ]
  },
  {
   "cell_type": "markdown",
   "metadata": {
    "id": "eijHQiNU2IZ7"
   },
   "source": [
    "## Aula 5 - Estruturas de dados"
   ]
  },
  {
   "cell_type": "markdown",
   "metadata": {
    "id": "92F0bKtBMgd7"
   },
   "source": [
    "### Aquecendo na programação"
   ]
  },
  {
   "cell_type": "markdown",
   "metadata": {
    "id": "IypX2ANuMgeC"
   },
   "source": [
    "#### Questão 1\n",
    "Faça um programa que tenha a seguinte lista contendo os valores de gastos de uma empresa de papel `[2172.54, 3701.35, 3518.09, 3456.61, 3249.38, 2840.82, 3891.45, 3075.26, 2317.64, 3219.08]`. Com esses valores, faça um programa que calcule a média de gastos. Dica, use as funções built-in [`sum()`](https://docs.python.org/3/library/functions.html#sum) e [`len()`](https://docs.python.org/3/library/functions.html#len)."
   ]
  },
  {
   "cell_type": "code",
   "execution_count": 1,
   "metadata": {
    "id": "ge3LuFhLMgeD"
   },
   "outputs": [
    {
     "name": "stdout",
     "output_type": "stream",
     "text": [
      "A média de gastos é 3144.222\n"
     ]
    }
   ],
   "source": [
    "gastos = [2172.54, 3701.35, 3518.09, 3456.61, 3249.38, 2840.82, 3891.45, 3075.26, 2317.64, 3219.08]\n",
    "\n",
    "total = sum(gastos)\n",
    "itens = len(gastos)\n",
    "\n",
    "media = total / itens\n",
    "\n",
    "print(f'A média de gastos é {media}')"
   ]
  },
  {
   "cell_type": "markdown",
   "metadata": {
    "id": "xrOeLhQkMgeD"
   },
   "source": [
    "#### Questão 2\n",
    " Com os mesmos dados da questão anterior, defina quantas compras foram acima de 3000 reais e calcule a porcentagem quanto ao total de compras."
   ]
  },
  {
   "cell_type": "code",
   "execution_count": 2,
   "metadata": {
    "id": "Ygu5TMZyMgeD"
   },
   "outputs": [
    {
     "name": "stdout",
     "output_type": "stream",
     "text": [
      "7 compras foram acima de R$3.000,00\n",
      "70.0% dos gastos foram acima de R$3.000,00\n"
     ]
    }
   ],
   "source": [
    "acima_3000 = 0\n",
    "\n",
    "for gasto in gastos:\n",
    "    if gasto > 3000:\n",
    "        acima_3000 += 1\n",
    "\n",
    "quantidade_compras = len(gastos)\n",
    "\n",
    "porcentagem_acima_3000 = 100 * (acima_3000) / (quantidade_compras)\n",
    "\n",
    "print(f'{acima_3000} compras foram acima de R$3.000,00')\n",
    "print(f'{porcentagem_acima_3000}% dos gastos foram acima de R$3.000,00')"
   ]
  },
  {
   "cell_type": "markdown",
   "metadata": {
    "id": "JgCOrE_BMgeD"
   },
   "source": [
    "#### Questão 3\n",
    "Faça um código que colete em uma lista 5 números inteiros quaisquer e imprima a lista. Exemplo: `[1,4,7,2,4]`."
   ]
  },
  {
   "cell_type": "code",
   "execution_count": 3,
   "metadata": {
    "id": "vtM9O1hLMgeD"
   },
   "outputs": [
    {
     "name": "stdout",
     "output_type": "stream",
     "text": [
      "Lista de números inseridos: [1, 2, 5, 6, 8]\n"
     ]
    }
   ],
   "source": [
    "lista_numeros = []\n",
    "\n",
    "for i in range(0, 5):\n",
    "    numero = int(input('Digite um número inteiro: '))\n",
    "    lista_numeros.append(numero)\n",
    "\n",
    "print(f'Lista de números inseridos: {lista_numeros}')"
   ]
  },
  {
   "cell_type": "markdown",
   "metadata": {
    "id": "p3bTp88HMgeD"
   },
   "source": [
    "#### Questão 4\n",
    "Colete novamente 5 inteiros e imprima a lista em ordem inversa à enviada."
   ]
  },
  {
   "cell_type": "code",
   "execution_count": 4,
   "metadata": {
    "id": "-CGwMIyHMgeD"
   },
   "outputs": [
    {
     "name": "stdout",
     "output_type": "stream",
     "text": [
      "Lista de números inseridos: [1, 8, 2, 4, 5]\n"
     ]
    }
   ],
   "source": [
    "lista_numeros = []\n",
    "\n",
    "for i in range(0, 5):\n",
    "    numero = int(input('Digite um número inteiro: '))\n",
    "    lista_numeros.append(numero)\n",
    "\n",
    "print(f'Lista de números inseridos: {lista_numeros[::-1]}')"
   ]
  },
  {
   "cell_type": "markdown",
   "metadata": {
    "id": "eIXd_z1lMgeD"
   },
   "source": [
    "#### Questão 5\n",
    "Faça um programa que, ao inserir um número qualquer, criará uma lista contendo todos os números primos entre 1 e o número digitado."
   ]
  },
  {
   "cell_type": "code",
   "execution_count": 5,
   "metadata": {
    "id": "rj_6GHstMgeE"
   },
   "outputs": [
    {
     "name": "stdout",
     "output_type": "stream",
     "text": [
      "Lista de números primos: [2, 3, 5, 7]\n"
     ]
    }
   ],
   "source": [
    "numero = int(input('Digite um número inteiro: '))\n",
    "\n",
    "lista_primos = []\n",
    "\n",
    "for num in range(2, numero):\n",
    "    primo = True\n",
    "\n",
    "    for teste_divisiveis in range(2, num):\n",
    "        if num % teste_divisiveis == 0:\n",
    "            primo = False\n",
    "            break\n",
    "    \n",
    "    if primo:\n",
    "        lista_primos.append(num)\n",
    "\n",
    "print(f'Lista de números primos: {lista_primos}')"
   ]
  },
  {
   "cell_type": "markdown",
   "metadata": {
    "id": "zrbz3ENlMgeE"
   },
   "source": [
    "#### Questão 6\n",
    "Escreva um programa que peça uma data informando o dia, mês e ano e determine se ela é uma data válida para uma análise."
   ]
  },
  {
   "cell_type": "code",
   "execution_count": 6,
   "metadata": {
    "id": "0eYA8UjTMgeE"
   },
   "outputs": [
    {
     "name": "stdout",
     "output_type": "stream",
     "text": [
      "Data válida\n"
     ]
    }
   ],
   "source": [
    "dia = int(input('Digite o dia: '))\n",
    "mes = int(input('Digite o mês: '))\n",
    "ano = int(input('Digite o ano: '))\n",
    "\n",
    "if mes == 2:\n",
    "    if ano % 4 == 0 and (ano % 400 == 0 or ano % 100 != 0):\n",
    "        dias_fevereiro = 29\n",
    "    else:\n",
    "        dias_fevereiro = 28\n",
    "\n",
    "    if dia >= 1 and dia <= dias_fevereiro:\n",
    "        print('Data válida')\n",
    "    else:\n",
    "        print('Data inválida')\n",
    "elif mes in [1, 3, 5, 7, 8, 10, 12]:\n",
    "    if dia >= 1 and dia <= 31:\n",
    "        print('Data válida')\n",
    "    else:\n",
    "        print('Data inválida')\n",
    "elif mes in [4, 6, 9, 11]:\n",
    "    if dia >= 1 and dia <= 30:\n",
    "        print('Data válida')\n",
    "    else:\n",
    "        print('Data inválida')\n",
    "else:\n",
    "    print('Data inválida')"
   ]
  },
  {
   "cell_type": "markdown",
   "metadata": {
    "id": "ut_4VHdGMgeE"
   },
   "source": [
    "### Momento dos projetos"
   ]
  },
  {
   "cell_type": "markdown",
   "metadata": {
    "id": "G86Z0vD_MgeE"
   },
   "source": [
    "#### Questão 7\n",
    "Para um estudo envolvendo o nível de multiplicação de bactérias em uma colônia, foi coletado o número de bactérias multiplicadas por dia, com base em um processo de duplicação diária e pode ser observado a seguir: `[1.2, 2.1, 3.3, 5.0, 7.8, 11.3, 16.6, 25.1, 37.8, 56.9]`. Tendo esses valores, faça um código que gere uma lista contendo o percentual de crescimento de bactérias por dia, comparando o número de bactérias em cada dia com o número de bactérias do dia anterior. Dica: para calcular o percentual de crescimento usamos a seguinte equação: `100 * (amostra_atual - amostra_passada) / (amostra_passada)`."
   ]
  },
  {
   "cell_type": "code",
   "execution_count": 7,
   "metadata": {
    "id": "PXNO_CFkMgeE"
   },
   "outputs": [
    {
     "name": "stdout",
     "output_type": "stream",
     "text": [
      "Porcetagens de crescimento: \n",
      "[75.00000000000001, 57.142857142857125, 51.51515151515153, 56.0, 44.87179487179489, 46.90265486725664, 51.20481927710843, 50.59760956175297, 50.52910052910054]\n"
     ]
    }
   ],
   "source": [
    "bacterias_colonia = [1.2, 2.1, 3.3, 5.0, 7.8, 11.3, 16.6, 25.1, 37.8, 56.9]\n",
    "\n",
    "porcentagem_crescimento = []\n",
    "\n",
    "for i in range(1, len(bacterias_colonia)):\n",
    "    porcentagem = 100 * (bacterias_colonia[i] - bacterias_colonia[i-1]) / (bacterias_colonia[i-1])\n",
    "    porcentagem_crescimento.append(porcentagem)\n",
    "\n",
    "print(f'Porcetagens de crescimento: \\n{porcentagem_crescimento}')"
   ]
  },
  {
   "cell_type": "markdown",
   "metadata": {
    "id": "p4nxogpnMgeE"
   },
   "source": [
    "#### Questão 8\n",
    "Para uma seleção de produtos alimentícios, precisamos separar o conjunto de IDs dados por números inteiros, sabendo que os produtos com ID par são doces e os com ID ímpar são amargos. Monte um código que colete 10 IDs. Depois, calcule e mostre a quantidade de produtos doces e amargos."
   ]
  },
  {
   "cell_type": "code",
   "execution_count": 9,
   "metadata": {
    "id": "WqjO2SZkMgeE"
   },
   "outputs": [
    {
     "name": "stdout",
     "output_type": "stream",
     "text": [
      "Quantidade de produtos doces: 7\n",
      "Quantidade de produtos amargos: 3\n"
     ]
    }
   ],
   "source": [
    "ids = []\n",
    "doce = 0\n",
    "amargo = 0\n",
    "\n",
    "for i in range(0, 10):\n",
    "    ids.append(int(input(f'Digite o {i+1} ID: ')))\n",
    "\n",
    "for id in ids:\n",
    "    if id % 2 == 0:\n",
    "        doce += 1\n",
    "    else:\n",
    "        amargo += 1\n",
    "\n",
    "print(f'Quantidade de produtos doces: {doce}')\n",
    "print(f'Quantidade de produtos amargos: {amargo}')"
   ]
  },
  {
   "cell_type": "markdown",
   "metadata": {
    "id": "t5OrLxV6MgeE"
   },
   "source": [
    "#### Questão 9\n",
    "Desenvolva um programa que informa a nota de um aluno de acordo com suas respostas. Ele deve pedir a resposta de um aluno para cada questão e é preciso verificar se a resposta foi igual ao gabarito. Cada questão vale um ponto e existem alternativas:  A, B, C ou D.\n",
    "```\n",
    "Gabarito da Prova:\n",
    "01 - D\n",
    "02 - A\n",
    "03 - C\n",
    "04 - B\n",
    "05 - A\n",
    "06 - D\n",
    "07 - C\n",
    "08 - C\n",
    "09 - A\n",
    "10 - B\n",
    "```"
   ]
  },
  {
   "cell_type": "code",
   "execution_count": 10,
   "metadata": {
    "id": "ytIQDJrQMgeE"
   },
   "outputs": [
    {
     "name": "stdout",
     "output_type": "stream",
     "text": [
      "Nota final: 8\n"
     ]
    }
   ],
   "source": [
    "respostas = []\n",
    "gabarito = ['D', 'A', 'C', 'B', 'A', 'D', 'C', 'C', 'A', 'B']\n",
    "nota = 0\n",
    "\n",
    "for i in range(0, 10):\n",
    "    respostas.append(input(f'Insira a resposta da questão {i+1}: ').upper())\n",
    "\n",
    "for i in range(0, 10):\n",
    "    if respostas[i] == gabarito[i]:\n",
    "        nota += 1\n",
    "\n",
    "print(f'Nota final: {nota}')"
   ]
  },
  {
   "cell_type": "markdown",
   "metadata": {
    "id": "aSBMzh-AMgeF"
   },
   "source": [
    "#### Questão 10\n",
    "Um instituto de meteorologia deseja fazer um estudo de temperatura média de cada mês do ano. Para isso, você precisa fazer um código que colete e armazene essas temperaturas médias em uma lista. Depois, calcule a média anual das temperaturas e mostre todas as temperaturas acima da média anual, e em que mês elas ocorreram, mostrando os meses por extenso: Janeiro, Fevereiro, etc."
   ]
  },
  {
   "cell_type": "code",
   "execution_count": 11,
   "metadata": {
    "id": "ftj04s2uMgeF"
   },
   "outputs": [
    {
     "name": "stdout",
     "output_type": "stream",
     "text": [
      "Temperaturas acima da média em: \n",
      "Janeiro\n",
      "Fevereiro\n",
      "Setembro\n",
      "Outubro\n",
      "Novembro\n",
      "Dezembro\n"
     ]
    }
   ],
   "source": [
    "temperaturas_mensais = []\n",
    "for i in range(0, 12):\n",
    "    temperaturas_mensais.append(float(input(f'Digite a média de temperatura do mês {i+1}: ')))\n",
    "\n",
    "meses = ['Janeiro', 'Fevereiro', 'Março', 'Abril', 'Maio', 'Junho', 'Julho', 'Agosto', 'Setembro', 'Outubro', 'Novembro', 'Dezembro']\n",
    "media_anual = sum(temperaturas_mensais) / len(temperaturas_mensais)\n",
    "\n",
    "print('Temperaturas acima da média em: ')\n",
    "for i in range(0, 12):\n",
    "    if temperaturas_mensais[i] > media_anual:\n",
    "        print(meses[i])"
   ]
  },
  {
   "cell_type": "markdown",
   "metadata": {
    "id": "0X8S6s4jMgeF"
   },
   "source": [
    "#### Questão 11\n",
    "Uma empresa de e-commerce está interessada em analisar as vendas dos seus produtos. Os dados das vendas foram armazenados em um dicionário:\n",
    "```\n",
    "{'Produto A': 300, 'Produto B': 80, 'Produto C': 60,\n",
    " 'Produto D': 200, 'Produto E': 250, 'Produto F': 30}\n",
    "```\n",
    "Escreva um código que calcule o total de vendas e o produto mais vendido."
   ]
  },
  {
   "cell_type": "code",
   "execution_count": 16,
   "metadata": {
    "id": "Xa3DJLtFMgeF"
   },
   "outputs": [
    {
     "name": "stdout",
     "output_type": "stream",
     "text": [
      "Total de vendas é 920\n",
      "Produto A é o mais vendido\n"
     ]
    }
   ],
   "source": [
    "dados_vendas = {'Produto A': 300, 'Produto B': 80, 'Produto C': 60, 'Produto D': 200, 'Produto E': 250, 'Produto F': 30}\n",
    "\n",
    "total_vendas = 0\n",
    "produto_mais_vendido = ''\n",
    "unidades_produto_mais_vendido = 0\n",
    "\n",
    "for produto in dados_vendas.keys():\n",
    "  total_vendas += dados_vendas[produto]\n",
    "\n",
    "  if dados_vendas[produto] > unidades_produto_mais_vendido:\n",
    "    unidades_produto_mais_vendido = dados_vendas[produto]\n",
    "    produto_mais_vendido = produto\n",
    "\n",
    "print(f'Total de vendas é {total_vendas}')\n",
    "print(f'{produto_mais_vendido} é o mais vendido')"
   ]
  },
  {
   "cell_type": "markdown",
   "metadata": {
    "id": "nrEwf_1ZMgeF"
   },
   "source": [
    "#### Questão 12\n",
    "Uma pesquisa de mercado foi feita para decidir qual design de uma marca infantil mais agrada crianças. A pesquisa foi feita e o votos computados podem ser observados abaixo:\n",
    "```\n",
    "'''\n",
    "Tabela de votos da marca\n",
    "Design 1 - 1334 votos\n",
    "Design 2 - 982 votos\n",
    "Design 3 - 1751 votos\n",
    "Design 4 - 210 votos\n",
    "Design 5 - 1811 votos\n",
    "'''\n",
    "```\n",
    "Adapte os dados fornecidos a você para uma estrutura de dicionário e a partir dele, informe o design vencedor e a porcentagem de votos recebidos.\n"
   ]
  },
  {
   "cell_type": "code",
   "execution_count": 17,
   "metadata": {
    "id": "MRPcGR-_MgeF"
   },
   "outputs": [
    {
     "name": "stdout",
     "output_type": "stream",
     "text": [
      "Design 5 é o vencedor\n",
      "Porcentagem de votos: 29.747043363994745\n"
     ]
    }
   ],
   "source": [
    "votos = {'Design 1': 1334, 'Design 2': 982, 'Design 3': 1751, 'Design 4': 210, 'Design 5': 1811}\n",
    "\n",
    "total_votos = 0\n",
    "vencedor = ''\n",
    "voto_vencedor = 0\n",
    "\n",
    "for design, voto_design in votos.items():\n",
    "    total_votos += voto_design\n",
    "\n",
    "    if voto_design > voto_vencedor:\n",
    "        voto_vencedor = voto_design\n",
    "        vencedor = design\n",
    "\n",
    "porcentagem = 100 * (voto_vencedor) / (total_votos)\n",
    "\n",
    "print(f'{vencedor} é o vencedor')\n",
    "print(f'Porcentagem de votos: {porcentagem}')"
   ]
  },
  {
   "cell_type": "markdown",
   "metadata": {
    "id": "HRTFFzKIMgeF"
   },
   "source": [
    "#### Questão 13\n",
    "Os funcionários de um setor da empresa que você trabalha vão receber um abono correspondente a 10% do seu salário devido ao ótimo desempenho do time. O setor financeiro solicitou sua ajuda para a verificação das consequências financeiras que esse abono irá gerar nos recursos. Assim, foi encaminhada para você uma lista com os salários que receberão o abono: `[1172, 1644, 2617, 5130, 5532, 6341, 6650, 7238, 7685, 7782, 7903]`. O abono de cada funcionário não pode ser inferior a 200. Em código, transforme cada um dos salários em chaves de um dicionário e o abono de cada salário no elemento. Depois, informe o total de gastos com o abono, quantos funcionários receberam o abono mínimo e qual o maior valor de abono fornecido.\n"
   ]
  },
  {
   "cell_type": "code",
   "execution_count": 18,
   "metadata": {
    "id": "QsDSCua42bLB"
   },
   "outputs": [
    {
     "name": "stdout",
     "output_type": "stream",
     "text": [
      "Abonos: {1172: 200, 1644: 200, 2617: 261.7, 5130: 513.0, 5532: 553.2, 6341: 634.1, 6650: 665.0, 7238: 723.8000000000001, 7685: 768.5, 7782: 778.2, 7903: 790.3000000000001}\n",
      "Total de gasto com abonos: 6087.8\n",
      "Número de funcionários que receberam o abono mínimo: 2\n",
      "Maior valor de abono: 790.3000000000001\n"
     ]
    }
   ],
   "source": [
    "# Lista de salários\n",
    "salarios = [1172, 1644, 2617, 5130, 5532, 6341, 6650, 7238, 7685, 7782, 7903]\n",
    "# Inicializamos as variáveis\n",
    "dic_abonos = {} # Dicionário de abonos\n",
    "total_abono = 0 # Irá somar todos os gastos com abono\n",
    "abonos_minimo = 0 # Irá armazenar a quantidade de abonos mínimos \n",
    "maior_abono = 0 # Irá armazenar o maior valor de abono \n",
    "\n",
    "# Percorremos toda a lista de salários\n",
    "for salario in salarios:\n",
    "  # Calculamos o valor teórico de abono\n",
    "  abono = salario * 0.1\n",
    "  # Caso o abono seja inferior a 200,\n",
    "  # ajustamos o valor de abono para o mínimo (200)\n",
    "  if abono < 200:\n",
    "    abono = 200\n",
    "  # Adicionamos um novo dado no dicionário chave abono\n",
    "  dic_abonos[salario] = abono\n",
    "\n",
    "# Percorremos todos os valores do dicionário de abonos\n",
    "for abono in dic_abonos.values():\n",
    "  # Contamos o salário minimo\n",
    "  if abono == 200:\n",
    "    abonos_minimo += 1\n",
    "  # Verificamos se o abono lido é maior que o valor armazenado em maior_abono\n",
    "  # Cada vez que o abono superar o valor de maior_abono, \n",
    "  # a variável maior_abono vai ser igual à abono, atribuindo um novo valor\n",
    "  if abono > maior_abono:\n",
    "    maior_abono = abono\n",
    "  # Somamos os abonos\n",
    "  total_abono += abono\n",
    "# Resultados\n",
    "print(f'Abonos: {dic_abonos}')\n",
    "print(f'Total de gasto com abonos: {total_abono}')\n",
    "print(f'Número de funcionários que receberam o abono mínimo: {abonos_minimo}')\n",
    "print(f'Maior valor de abono: {maior_abono}')"
   ]
  },
  {
   "cell_type": "markdown",
   "metadata": {
    "id": "6dEXZEwjMlWy"
   },
   "source": [
    "#### Questão 14\n",
    "Uma equipe de cientistas de dados está estudando a diversidade biológica em uma floresta. A equipe fez a coleta de informações sobre o número de espécies de plantas e animais em cada área da floresta e armazenaram essas informações em um dicionário. Nele, a chave descreve a área dos dados e os valores nas listas correspondem às espécies de plantas e animais nas áreas, respectivamente.\n",
    "```\n",
    "{'Área Norte': [2819, 7236],\n",
    " 'Área Leste': [1440, 9492],\n",
    " 'Área Sul': [5969, 7496],\n",
    " 'Área Oeste': [14446, 49688],\n",
    " 'Área Centro': [22558, 45148]}\n",
    "```\n",
    "Escreva um código para calcular a média de espécies por área e identificar a área com a maior diversidade biológica. Dica: use as funções built-in [`sum()`](https://docs.python.org/3/library/functions.html#sum) e [`len()`](https://docs.python.org/3/library/functions.html#len).\n"
   ]
  },
  {
   "cell_type": "code",
   "execution_count": 19,
   "metadata": {
    "id": "eQnOUDfYMlWy"
   },
   "outputs": [
    {
     "name": "stdout",
     "output_type": "stream",
     "text": [
      "A Área Norte tem a média de 5027.5 espécies\n",
      "A Área Leste tem a média de 5466.0 espécies\n",
      "A Área Sul tem a média de 6732.5 espécies\n",
      "A Área Oeste tem a média de 32067.0 espécies\n",
      "A Área Centro tem a média de 33853.0 espécies\n",
      "Média geral de espécies: 16629.2\n",
      "Área com a maior diversidade biológica: Área Centro\n"
     ]
    }
   ],
   "source": [
    "# Especificamos os dados para um dicionário\n",
    "dados = {'Área Norte': [2819, 7236],\n",
    "         'Área Leste': [1440, 9492],\n",
    "         'Área Sul': [5969, 7496],\n",
    "         'Área Oeste': [14446, 49688],\n",
    "         'Área Centro': [22558, 45148]}\n",
    "# Inicializamos as variáveis\n",
    "soma_media = 0 # Irá somar todas as médias\n",
    "maior_diversidade = '' # Irá armazenar a área com maior diversidade\n",
    "maior_soma = 0 # Irá armazenar a maior soma de espécies \n",
    "# Percorremos os valores de chaves e elementos do dicionário\n",
    "for area, especies in dados.items():\n",
    "  # Fazemos a soma do números de espécies em cada área com a função sum\n",
    "  soma_especies = sum(especies)\n",
    "  # Calculamos a média dividindo a soma das espécies pela quantidade de espécies\n",
    "  media = soma_especies / len(especies)\n",
    "  # Imprimimos\n",
    "  print(f'A {area} tem a média de {media} espécies')\n",
    "  # Verificamos se a soma das espécies é maior que o valor armazenado de maior_soma\n",
    "  # Cada vez que a soma_especies superar o valor de maior_soma, \n",
    "  # a variável maior_soma vai ser igual à soma_especies, atribuindo um novo valor\n",
    "  # De forma similar, maior_diversidade também é substituída\n",
    "  if soma_especies > maior_soma:\n",
    "      maior_soma = soma_especies\n",
    "      maior_diversidade = area\n",
    "  # Somamos as médias\n",
    "  soma_media += media\n",
    "# A média total será dada pela soma_media dividida pela quantidade de áreas\n",
    "media_total = soma_media / len(dados)\n",
    "print(f'Média geral de espécies: {media_total}')\n",
    "print(f'Área com a maior diversidade biológica: {maior_diversidade}')"
   ]
  },
  {
   "cell_type": "markdown",
   "metadata": {
    "id": "r0RW2Sy_MlWy"
   },
   "source": [
    "#### Questão 15\n",
    "O setor de RH da sua empresa te pediu uma ajuda para analisar as idades dos funcionários de 4 setores da empresa. Para isso, ele te forneceu os seguintes dados:\n",
    "```\n",
    "{'Setor A': [22, 26, 30, 30, 35, 38, 40, 56, 57, 65],\n",
    " 'Setor B': [22, 24, 26, 33, 41, 49, 50, 54, 60, 64],\n",
    " 'Setor C': [23, 26, 26, 29, 34, 35, 36, 41, 52, 56],\n",
    " 'Setor D': [19, 20, 25, 27, 34, 39, 42, 44, 50, 65]}\n",
    "``` \n",
    "Sabendo que cada setor tem 10 funcionários, construa um código que calcule a média de idade de cada setor, a idade média geral entre todos os setores e quantas pessoas estão acima da idade média geral.\n"
   ]
  },
  {
   "cell_type": "code",
   "execution_count": 20,
   "metadata": {
    "id": "wCiwyKP3MmTz"
   },
   "outputs": [
    {
     "name": "stdout",
     "output_type": "stream",
     "text": [
      "O Setor A tem a média de 39.9\n",
      "O Setor B tem a média de 42.3\n",
      "O Setor C tem a média de 35.8\n",
      "O Setor D tem a média de 36.5\n",
      "A média de idade geral é 38.625\n",
      "18 pessoas estão acima da idade média geral\n"
     ]
    }
   ],
   "source": [
    "# Especificamos os dados para um dicionário\n",
    "dados = {'Setor A': [22, 26, 30, 30, 35, 38, 40, 56, 57, 65],\n",
    "        'Setor B': [22, 24, 26, 33, 41, 49, 50, 54, 60, 64],\n",
    "        'Setor C': [23, 26, 26, 29, 34, 35, 36, 41, 52, 56],\n",
    "        'Setor D': [19, 20, 25, 27, 34, 39, 42, 44, 50, 65]}\n",
    "# Inicializamos a variável que irá somar todas as idades\n",
    "total_idades = 0\n",
    "# Percorremos os valores de chaves e elementos do dicionário\n",
    "for setor, idades in dados.items():\n",
    "  # Calculamos a média dividindo a soma das idades pela quantidade funcionários em cada setor\n",
    "  media_idade = sum(idades) / len(idades)\n",
    "  # Imprimimos\n",
    "  print(f'O {setor} tem a média de {media_idade}')\n",
    "  # Somamos as médias\n",
    "  total_idades += sum(idades)\n",
    "# A média total será dada pela total_idades dividida pela quantidade de pessoas totais (setores * funcionários por setor)\n",
    "media_total = total_idades / (len(idades) * len(dados))\n",
    "print(f'A média de idade geral é {media_total}')\n",
    "\n",
    "# Inicializamos a variável que irá contar todas pessoas com idade acima da média\n",
    "acima_media = 0\n",
    "# Percorremos novamente os valores de chaves e elementos do dicionário\n",
    "for setor, idades in dados.items():\n",
    "  # Lemos os elementos (idades) dentro de cada lista de idades no dicionário\n",
    "  for id in idades:\n",
    "    # Verificamos se o valor da idade é superior à média total\n",
    "    if id > media_total:\n",
    "      # Caso o valor da idade seja superior à média, incrementamos mais um no contador\n",
    "      acima_media += 1\n",
    "# Resultado\n",
    "print(f'{acima_media} pessoas estão acima da idade média geral')"
   ]
  }
 ],
 "metadata": {
  "colab": {
   "authorship_tag": "ABX9TyNAcHMa4C+Q6J7M1CkYm1Tn",
   "provenance": [],
   "toc_visible": true
  },
  "kernelspec": {
   "display_name": "base",
   "language": "python",
   "name": "python3"
  },
  "language_info": {
   "codemirror_mode": {
    "name": "ipython",
    "version": 3
   },
   "file_extension": ".py",
   "mimetype": "text/x-python",
   "name": "python",
   "nbconvert_exporter": "python",
   "pygments_lexer": "ipython3",
   "version": "3.12.7"
  }
 },
 "nbformat": 4,
 "nbformat_minor": 0
}
